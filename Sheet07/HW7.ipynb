{
 "cells": [
  {
   "cell_type": "code",
   "execution_count": 1,
   "id": "painful-mongolia",
   "metadata": {},
   "outputs": [],
   "source": [
    "import torch\n",
    "import numpy as np\n",
    "from tqdm import tqdm \n",
    "from time import sleep \n",
    "import matplotlib.pyplot as plt\n",
    "\n",
    "\n",
    "from torchvision import datasets\n",
    "import torchvision.transforms as transforms\n",
    "import torch.nn as nn\n",
    "import torch.optim as optim \n",
    "import torch.nn.functional as F"
   ]
  },
  {
   "cell_type": "code",
   "execution_count": 2,
   "id": "shared-forty",
   "metadata": {},
   "outputs": [
    {
     "data": {
      "text/plain": [
       "True"
      ]
     },
     "execution_count": 2,
     "metadata": {},
     "output_type": "execute_result"
    }
   ],
   "source": [
    "torch.cuda.is_available()"
   ]
  },
  {
   "cell_type": "code",
   "execution_count": 3,
   "id": "verbal-williams",
   "metadata": {},
   "outputs": [],
   "source": [
    "def plotting_losses(cnn, cnn_batch_norm):\n",
    "    plt.plot(cnn.detach(), 'r', label=\"CNN\")\n",
    "    plt.plot(cnn_batch_norm.detach(), 'k', label=\"CNN with Batch Norm\")\n",
    "    plt.legend()\n",
    "    plt.show()\n",
    "    \n",
    "def acc_plot(cnn, cnn_batch_norm):\n",
    "    plt.plot(cnn, 'r', label=\"CNN\")\n",
    "    plt.plot(cnn_batch_norm, 'k', label=\"CNN with Batch Norm\")\n",
    "    plt.legend()\n",
    "    plt.show()\n",
    "    \n",
    "def plot_images(images):\n",
    "    for image in images:\n",
    "        plt.figure()\n",
    "        plt.imshow(image)\n",
    "    "
   ]
  },
  {
   "cell_type": "code",
   "execution_count": 4,
   "id": "lesser-beast",
   "metadata": {},
   "outputs": [],
   "source": [
    "class Dataset:\n",
    "    def __init__(self, images: torch.Tensor, labels: torch.Tensor, mode: str):\n",
    "        self.mode = mode\n",
    "        self.images = images\n",
    "        self.labels = labels\n",
    "        self.train_transform = transforms.Compose([transforms.ToPILImage(),\n",
    "                                                   transforms.RandomHorizontalFlip(0.3), # FLips the image w.r.t horizontal axis\n",
    "                                                   transforms.RandomRotation(10),     #Rotates the image to a specified angel\n",
    "                                                   transforms.RandomAffine(0, shear=10, scale=(0.8,1.2)), #Performs actions like zooms, change shear angles.\n",
    "                                                   transforms.ColorJitter(brightness=0.2, contrast=0.2, saturation=0.2), # Set the color params\n",
    "                                                   transforms.ToTensor(), # comvert the image to tensor so that it can work with torch\n",
    "                                                   transforms.Normalize(mean=[0.5, 0.5, 0.5],\n",
    "                                                                        std=[0.5, 0.5, 0.5])]) #Normalize all the images\n",
    "                                                  \n",
    " \n",
    " \n",
    "        self.test_transform = transforms.Compose([transforms.ToPILImage(),\n",
    "                                                   transforms.ToTensor(),\n",
    "                                                   transforms.Normalize((0.5, 0.5, 0.5), (0.5, 0.5, 0.5))\n",
    "                                                 ])\n",
    "    def __len__(self):\n",
    "        a = len(self.labels)\n",
    "        return a\n",
    "    \n",
    "    def __getitem__(self, index):\n",
    "        image = self.images[index]\n",
    "        label = self.labels[index]\n",
    "        if self.mode == \"train\":\n",
    "            image = self.train_transform(image)\n",
    "        elif self.mode == \"test\":\n",
    "            image = self.test_transform(image)\n",
    "        return image, label"
   ]
  },
  {
   "cell_type": "code",
   "execution_count": 5,
   "id": "through-decrease",
   "metadata": {},
   "outputs": [],
   "source": [
    "dataset_x = datasets.CIFAR10(root = \"cifar/\", train = True, download = False)\n",
    "dataset_y = datasets.CIFAR10(root = \"cifar/\", train = False, download = False)\n",
    "train_dataset = Dataset(dataset_x.data, dataset_x.targets, \"train\")\n",
    "test_dataset = Dataset(dataset_y.data, dataset_y.targets, \"test\")\n",
    "\n",
    "train_loader = torch.utils.data.DataLoader(train_dataset, batch_size = 128, shuffle = True, pin_memory=True)\n",
    "test_loader = torch.utils.data.DataLoader(test_dataset, batch_size = 128, shuffle = True, pin_memory=True)\n"
   ]
  },
  {
   "cell_type": "code",
   "execution_count": 6,
   "id": "blond-heading",
   "metadata": {},
   "outputs": [
    {
     "name": "stderr",
     "output_type": "stream",
     "text": [
      "Clipping input data to the valid range for imshow with RGB data ([0..1] for floats or [0..255] for integers).\n"
     ]
    },
    {
     "data": {
      "image/png": "[encoded data removed]",
      "text/plain": [
       "<Figure size 432x288 with 1 Axes>"
      ]
     },
     "metadata": {
      "needs_background": "light"
     },
     "output_type": "display_data"
    },
    {
     "data": {
      "image/png": "[encoded data removed]",
      "text/plain": [
       "<Figure size 432x288 with 1 Axes>"
      ]
     },
     "metadata": {
      "needs_background": "light"
     },
     "output_type": "display_data"
    }
   ],
   "source": [
    "image_before = dataset_x[0][0]\n",
    "image_after = train_dataset[0][0].transpose(0,2)\n",
    "images = [image_before, image_after]\n",
    "plot_images(images)"
   ]
  },
  {
   "cell_type": "code",
   "execution_count": 7,
   "id": "available-dance",
   "metadata": {},
   "outputs": [],
   "source": [
    "class ResBlock(nn.Module):\n",
    "    def __init__(self, in_channels, feature_channels):\n",
    "        super().__init__()\n",
    "        self.conv1 = nn.Conv2d(in_channels, feature_channels, kernel_size=3, padding=1)\n",
    "        self.conv2 = nn.Conv2d(feature_channels, in_channels, kernel_size=3, padding=1)\n",
    "    def forward(self, x):\n",
    "        identity = x\n",
    "        \n",
    "        x = self.conv1(x)\n",
    "        x = F.relu(x)\n",
    "        x = self.conv2(x)\n",
    "        x += identity\n",
    "        x = F.relu(x)\n",
    "        return x "
   ]
  },
  {
   "cell_type": "code",
   "execution_count": 25,
   "id": "nasty-champion",
   "metadata": {},
   "outputs": [],
   "source": [
    "class ResNet(nn.Module):\n",
    "    def __init__(self, ResBlock, in_channels, num_classes, layers_list):\n",
    "        super().__init__()\n",
    "        self.in_channels = 64\n",
    "        self.conv1 = nn.Conv2d(in_channels, 64, kernel_size=7, stride=2, padding=3)\n",
    "        self.block1 = ResBlock(self.in_channels, 32)\n",
    "        self.conv2 = nn.Conv2d(64, 64, kernel_size=3, padding=1)\n",
    "        self.block2 = ResBlock(self.in_channels, 64)\n",
    "        self.conv3 = nn.Conv2d(64, 64, kernel_size=3, padding=1)\n",
    "        self.block3 = ResBlock(self.in_channels, 128)\n",
    "        self.avg_pool = nn.AvgPool2d(kernel_size=2)\n",
    "        x = torch.randn(32,32,3).view(-1,3,32,32)\n",
    "        \n",
    "        self._to_linear = None \n",
    "        self.convs(x)\n",
    "        self.fc = nn.Linear(self._to_linear, num_classes)\n",
    "                \n",
    "\n",
    "    def convs(self, x):\n",
    "        x = F.relu(self.conv1(x))\n",
    "        x = self.block1.forward(x)\n",
    "        x = F.relu(self.conv2(x))\n",
    "        x = self.block2.forward(x)\n",
    "        x = F.relu(self.conv3(x))\n",
    "        x = self.block3.forward(x)\n",
    "        x = self.avg_pool(x)\n",
    "        if self._to_linear is None:\n",
    "            self._to_linear = x[0].shape[0] * x[0].shape[1] * x[0].shape[2]\n",
    "        return x\n",
    "    \n",
    "    def forward(self, x):\n",
    "        x = self.convs(x)\n",
    "        x = x.view(-1, self._to_linear)\n",
    "        x = self.fc(x)\n",
    "        return x"
   ]
  },
  {
   "cell_type": "code",
   "execution_count": 26,
   "id": "wicked-wheel",
   "metadata": {},
   "outputs": [],
   "source": [
    "def train(model, optimizer, dataloader):\n",
    "    for x,y in dataloader:\n",
    "        x, y = x.to('cuda:0'), y.to('cuda:0')\n",
    "        optimizer.zero_grad()\n",
    "        prediction = model.forward(x)\n",
    "        loss = nn.CrossEntropyLoss()\n",
    "        output_loss = loss(prediction, y)\n",
    "        output_loss.backward()\n",
    "        optimizer.step()\n",
    "    return output_loss\n",
    "\n",
    "def accuracy(model, dataloader):\n",
    "    hits = 0\n",
    "    with torch.no_grad():\n",
    "        for x, y in dataloader:\n",
    "            x, y = x.to('cuda:0'), y.to('cuda:0')\n",
    "            prediction = model.forward(x)\n",
    "            prediction = torch.argmax(prediction, dim=1)\n",
    "            hits += (prediction == y).count_nonzero()\n",
    "    acc = hits / len(dataloader.dataset)\n",
    "    return acc"
   ]
  },
  {
   "cell_type": "code",
   "execution_count": 27,
   "id": "unusual-cross",
   "metadata": {},
   "outputs": [],
   "source": [
    "def training(model_factory, dataloader, optimizer_factory, epochs):\n",
    "    losses = torch.zeros(epochs)\n",
    "    accuracies = torch.zeros(epochs)\n",
    "    model = model_factory.to('cuda:0')\n",
    "    optimizer = optimizer_factory\n",
    "    \n",
    "    for epoch in tqdm(range(epochs)):\n",
    "        losses[epoch] = train(model, optimizer, dataloader)\n",
    "        accuracies[epoch] = accuracy(model, test_loader)\n",
    "        sleep(0.1)\n",
    "        print(f\"Loss of Epoch {epoch} is {losses[epoch]}\")\n",
    "        print(f\"Accuracy of Epoch {epoch} is {accuracies[epoch]}\")\n",
    "    return losses, accuracies"
   ]
  },
  {
   "cell_type": "code",
   "execution_count": 28,
   "id": "acute-characterization",
   "metadata": {},
   "outputs": [
    {
     "name": "stderr",
     "output_type": "stream",
     "text": [
      "  4%|▍         | 1/25 [00:29<11:53, 29.73s/it]"
     ]
    },
    {
     "name": "stdout",
     "output_type": "stream",
     "text": [
      "Loss of Epoch 0 is 1.443000078201294\n",
      "Accuracy of Epoch 0 is 0.5049999952316284\n"
     ]
    },
    {
     "name": "stderr",
     "output_type": "stream",
     "text": [
      "  8%|▊         | 2/25 [00:59<11:26, 29.84s/it]"
     ]
    },
    {
     "name": "stdout",
     "output_type": "stream",
     "text": [
      "Loss of Epoch 1 is 1.3865103721618652\n",
      "Accuracy of Epoch 1 is 0.5446999669075012\n"
     ]
    },
    {
     "name": "stderr",
     "output_type": "stream",
     "text": [
      " 12%|█▏        | 3/25 [01:29<10:59, 29.96s/it]"
     ]
    },
    {
     "name": "stdout",
     "output_type": "stream",
     "text": [
      "Loss of Epoch 2 is 1.003507375717163\n",
      "Accuracy of Epoch 2 is 0.6015999913215637\n"
     ]
    },
    {
     "name": "stderr",
     "output_type": "stream",
     "text": [
      " 16%|█▌        | 4/25 [01:59<10:28, 29.93s/it]"
     ]
    },
    {
     "name": "stdout",
     "output_type": "stream",
     "text": [
      "Loss of Epoch 3 is 1.0333675146102905\n",
      "Accuracy of Epoch 3 is 0.6423999667167664\n"
     ]
    },
    {
     "name": "stderr",
     "output_type": "stream",
     "text": [
      " 20%|██        | 5/25 [02:29<09:55, 29.76s/it]"
     ]
    },
    {
     "name": "stdout",
     "output_type": "stream",
     "text": [
      "Loss of Epoch 4 is 0.8266948461532593\n",
      "Accuracy of Epoch 4 is 0.6784999966621399\n"
     ]
    },
    {
     "name": "stderr",
     "output_type": "stream",
     "text": [
      " 24%|██▍       | 6/25 [02:58<09:22, 29.60s/it]"
     ]
    },
    {
     "name": "stdout",
     "output_type": "stream",
     "text": [
      "Loss of Epoch 5 is 0.9832304120063782\n",
      "Accuracy of Epoch 5 is 0.6976000070571899\n"
     ]
    },
    {
     "name": "stderr",
     "output_type": "stream",
     "text": [
      " 28%|██▊       | 7/25 [03:28<08:53, 29.64s/it]"
     ]
    },
    {
     "name": "stdout",
     "output_type": "stream",
     "text": [
      "Loss of Epoch 6 is 0.7717235684394836\n",
      "Accuracy of Epoch 6 is 0.7049999833106995\n"
     ]
    },
    {
     "name": "stderr",
     "output_type": "stream",
     "text": [
      " 32%|███▏      | 8/25 [03:57<08:24, 29.70s/it]"
     ]
    },
    {
     "name": "stdout",
     "output_type": "stream",
     "text": [
      "Loss of Epoch 7 is 0.641426682472229\n",
      "Accuracy of Epoch 7 is 0.7300999760627747\n"
     ]
    },
    {
     "name": "stderr",
     "output_type": "stream",
     "text": [
      " 36%|███▌      | 9/25 [04:27<07:55, 29.73s/it]"
     ]
    },
    {
     "name": "stdout",
     "output_type": "stream",
     "text": [
      "Loss of Epoch 8 is 0.8411058187484741\n",
      "Accuracy of Epoch 8 is 0.7394999861717224\n"
     ]
    },
    {
     "name": "stderr",
     "output_type": "stream",
     "text": [
      " 40%|████      | 10/25 [04:57<07:26, 29.75s/it]"
     ]
    },
    {
     "name": "stdout",
     "output_type": "stream",
     "text": [
      "Loss of Epoch 9 is 0.4576021134853363\n",
      "Accuracy of Epoch 9 is 0.7414000034332275\n"
     ]
    },
    {
     "name": "stderr",
     "output_type": "stream",
     "text": [
      " 44%|████▍     | 11/25 [05:27<06:58, 29.87s/it]"
     ]
    },
    {
     "name": "stdout",
     "output_type": "stream",
     "text": [
      "Loss of Epoch 10 is 0.7417916655540466\n",
      "Accuracy of Epoch 10 is 0.7554999589920044\n"
     ]
    },
    {
     "name": "stderr",
     "output_type": "stream",
     "text": [
      " 48%|████▊     | 12/25 [05:57<06:29, 29.94s/it]"
     ]
    },
    {
     "name": "stdout",
     "output_type": "stream",
     "text": [
      "Loss of Epoch 11 is 0.898195743560791\n",
      "Accuracy of Epoch 11 is 0.7705999612808228\n"
     ]
    },
    {
     "name": "stderr",
     "output_type": "stream",
     "text": [
      " 52%|█████▏    | 13/25 [06:27<06:00, 30.02s/it]"
     ]
    },
    {
     "name": "stdout",
     "output_type": "stream",
     "text": [
      "Loss of Epoch 12 is 0.980333685874939\n",
      "Accuracy of Epoch 12 is 0.7601000070571899\n"
     ]
    },
    {
     "name": "stderr",
     "output_type": "stream",
     "text": [
      " 56%|█████▌    | 14/25 [06:58<05:30, 30.06s/it]"
     ]
    },
    {
     "name": "stdout",
     "output_type": "stream",
     "text": [
      "Loss of Epoch 13 is 0.7171703577041626\n",
      "Accuracy of Epoch 13 is 0.7833999991416931\n"
     ]
    },
    {
     "name": "stderr",
     "output_type": "stream",
     "text": [
      " 60%|██████    | 15/25 [07:27<04:58, 29.85s/it]"
     ]
    },
    {
     "name": "stdout",
     "output_type": "stream",
     "text": [
      "Loss of Epoch 14 is 0.7496456503868103\n",
      "Accuracy of Epoch 14 is 0.7847999930381775\n"
     ]
    },
    {
     "name": "stderr",
     "output_type": "stream",
     "text": [
      " 64%|██████▍   | 16/25 [07:57<04:29, 29.94s/it]"
     ]
    },
    {
     "name": "stdout",
     "output_type": "stream",
     "text": [
      "Loss of Epoch 15 is 0.5177578926086426\n",
      "Accuracy of Epoch 15 is 0.7949000000953674\n"
     ]
    },
    {
     "name": "stderr",
     "output_type": "stream",
     "text": [
      " 68%|██████▊   | 17/25 [08:27<03:59, 29.98s/it]"
     ]
    },
    {
     "name": "stdout",
     "output_type": "stream",
     "text": [
      "Loss of Epoch 16 is 0.5604304671287537\n",
      "Accuracy of Epoch 16 is 0.7911999821662903\n"
     ]
    },
    {
     "name": "stderr",
     "output_type": "stream",
     "text": [
      " 72%|███████▏  | 18/25 [08:57<03:30, 30.05s/it]"
     ]
    },
    {
     "name": "stdout",
     "output_type": "stream",
     "text": [
      "Loss of Epoch 17 is 0.9513866305351257\n",
      "Accuracy of Epoch 17 is 0.7931999564170837\n"
     ]
    },
    {
     "name": "stderr",
     "output_type": "stream",
     "text": [
      " 76%|███████▌  | 19/25 [09:28<03:00, 30.08s/it]"
     ]
    },
    {
     "name": "stdout",
     "output_type": "stream",
     "text": [
      "Loss of Epoch 18 is 0.653720498085022\n",
      "Accuracy of Epoch 18 is 0.8044999837875366\n"
     ]
    },
    {
     "name": "stderr",
     "output_type": "stream",
     "text": [
      " 80%|████████  | 20/25 [09:58<02:30, 30.13s/it]"
     ]
    },
    {
     "name": "stdout",
     "output_type": "stream",
     "text": [
      "Loss of Epoch 19 is 0.580748438835144\n",
      "Accuracy of Epoch 19 is 0.7949000000953674\n"
     ]
    },
    {
     "name": "stderr",
     "output_type": "stream",
     "text": [
      " 84%|████████▍ | 21/25 [10:28<02:00, 30.20s/it]"
     ]
    },
    {
     "name": "stdout",
     "output_type": "stream",
     "text": [
      "Loss of Epoch 20 is 0.5332086682319641\n",
      "Accuracy of Epoch 20 is 0.8019999861717224\n"
     ]
    },
    {
     "name": "stderr",
     "output_type": "stream",
     "text": [
      " 88%|████████▊ | 22/25 [10:58<01:30, 30.17s/it]"
     ]
    },
    {
     "name": "stdout",
     "output_type": "stream",
     "text": [
      "Loss of Epoch 21 is 0.5926464200019836\n",
      "Accuracy of Epoch 21 is 0.8111000061035156\n"
     ]
    },
    {
     "name": "stderr",
     "output_type": "stream",
     "text": [
      " 92%|█████████▏| 23/25 [11:28<01:00, 30.13s/it]"
     ]
    },
    {
     "name": "stdout",
     "output_type": "stream",
     "text": [
      "Loss of Epoch 22 is 0.6373921632766724\n",
      "Accuracy of Epoch 22 is 0.8139999508857727\n"
     ]
    },
    {
     "name": "stderr",
     "output_type": "stream",
     "text": [
      " 96%|█████████▌| 24/25 [11:58<00:30, 30.14s/it]"
     ]
    },
    {
     "name": "stdout",
     "output_type": "stream",
     "text": [
      "Loss of Epoch 23 is 0.8479655981063843\n",
      "Accuracy of Epoch 23 is 0.8033999800682068\n"
     ]
    },
    {
     "name": "stderr",
     "output_type": "stream",
     "text": [
      "100%|██████████| 25/25 [12:29<00:00, 29.98s/it]"
     ]
    },
    {
     "name": "stdout",
     "output_type": "stream",
     "text": [
      "Loss of Epoch 24 is 0.6083990335464478\n",
      "Accuracy of Epoch 24 is 0.8123999834060669\n"
     ]
    },
    {
     "name": "stderr",
     "output_type": "stream",
     "text": [
      "\n"
     ]
    }
   ],
   "source": [
    "layer_features = [32, 64, 128]\n",
    "model = ResNet(ResBlock, 3, 10, layer_features)\n",
    "optimizer = optim.Adam(model.parameters(), lr=0.0005, betas=(0.9, 0.95))\n",
    "losses, accuracies = training(model, train_loader, optimizer, 25) "
   ]
  },
  {
   "cell_type": "code",
   "execution_count": null,
   "id": "incorporated-context",
   "metadata": {},
   "outputs": [],
   "source": []
  }
 ],
 "metadata": {
  "kernelspec": {
   "display_name": "Deep L",
   "language": "python",
   "name": "deepl"
  },
  "language_info": {
   "codemirror_mode": {
    "name": "ipython",
    "version": 3
   },
   "file_extension": ".py",
   "mimetype": "text/x-python",
   "name": "python",
   "nbconvert_exporter": "python",
   "pygments_lexer": "ipython3",
   "version": "3.6.12"
  }
 },
 "nbformat": 4,
 "nbformat_minor": 5
}
