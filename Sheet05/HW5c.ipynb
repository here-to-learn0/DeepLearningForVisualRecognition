{
 "cells": [
  {
   "cell_type": "code",
   "execution_count": 2,
   "metadata": {},
   "outputs": [],
   "source": [
    "import torch\n",
    "import numpy as np\n",
    "from tqdm import tqdm \n",
    "from time import sleep \n",
    "import matplotlib.pyplot as plt\n",
    "\n",
    "\n",
    "from torchvision import datasets\n",
    "import torchvision.transforms as transforms\n",
    "import torch.nn as nn\n",
    "import torch.optim as optim \n",
    "import torch.nn.functional as F"
   ]
  },
  {
   "cell_type": "code",
   "execution_count": 3,
   "metadata": {},
   "outputs": [
    {
     "data": {
      "text/plain": [
       "True"
      ]
     },
     "execution_count": 3,
     "metadata": {},
     "output_type": "execute_result"
    }
   ],
   "source": [
    "torch.cuda.is_available()"
   ]
  },
  {
   "cell_type": "code",
   "execution_count": 11,
   "metadata": {},
   "outputs": [
    {
     "name": "stdout",
     "output_type": "stream",
     "text": [
      "Files already downloaded and verified\n",
      "Files already downloaded and verified\n"
     ]
    }
   ],
   "source": [
    "train_dataset = datasets.CIFAR10(root = \"cifar/\", train = True, download = True, transform = transforms.ToTensor())\n",
    "test_dataset = datasets.CIFAR10(root = \"cifar/\", train = False, download = True, transform = transforms.ToTensor())\n",
    "\n",
    "train_loader = torch.utils.data.DataLoader(train_dataset, batch_size = 128, shuffle = True, pin_memory=True)\n",
    "test_loader = torch.utils.data.DataLoader(test_dataset, batch_size = 128, shuffle = True, pin_memory=True)\n"
   ]
  },
  {
   "cell_type": "code",
   "execution_count": 8,
   "metadata": {},
   "outputs": [],
   "source": [
    "class Network(nn.Module):\n",
    "    def __init__(self):\n",
    "        super().__init__()\n",
    "        self.fc1 = nn.Linear(32*32*3, 512)\n",
    "        self.bn1 = nn.BatchNorm1d(512, affine=True)\n",
    "        self.bn2 = nn.BatchNorm1d(512, affine=True)\n",
    "        self.fc2 = nn.Linear(512, 512)\n",
    "        self.fc3 = nn.Linear(512, 10)\n",
    "        \n",
    "    def forward(self, x):\n",
    "        x = x.reshape(-1, 32*32*3)\n",
    "        x = F.relu(self.bn1(self.fc1(x)))\n",
    "        x = F.relu(self.bn2(self.fc2(x)))\n",
    "        x = self.fc3(x)\n",
    "        return x\n",
    "    \n",
    "    def forward_test(self, x):\n",
    "        x = x.reshape(-1, 32*32*3)\n",
    "        x = F.relu(self.fc1(x))\n",
    "        x = F.relu(self.fc2(x))\n",
    "        x = self.fc3(x)\n",
    "        return x"
   ]
  },
  {
   "cell_type": "code",
   "execution_count": 5,
   "metadata": {},
   "outputs": [],
   "source": [
    "def train(model, optimizer, dataloader, batch:bool):\n",
    "    for x, y in dataloader:\n",
    "        x, y = x.to('cuda:0'), y.to('cuda:0')\n",
    "        optimizer.zero_grad()\n",
    "        if batch == True:\n",
    "            prediction = model.forward(x)\n",
    "        else: \n",
    "            prediction = model.forward_test(x)\n",
    "        loss = nn.CrossEntropyLoss()\n",
    "        output_loss = loss(prediction, y.to(torch.long))\n",
    "        output_loss.backward()\n",
    "        optimizer.step()\n",
    "    return output_loss\n",
    "\n",
    "def accuracy(model, dataloader):\n",
    "    hits = 0\n",
    "    with torch.no_grad():\n",
    "        for x, y in dataloader:\n",
    "            x, y = x.to('cuda:0'), y.to('cuda:0')\n",
    "            prediction = model.forward_test(x)\n",
    "            prediction = torch.argmax(prediction, dim=1)\n",
    "            hits += (prediction == y).count_nonzero()\n",
    "    acc = hits / len(dataloader.dataset)\n",
    "    return acc"
   ]
  },
  {
   "cell_type": "code",
   "execution_count": 6,
   "metadata": {},
   "outputs": [],
   "source": [
    "def batch_norm(model_factory, optimizer_factory, dataloader, epochs):\n",
    "    losses = torch.zeros(epochs)\n",
    "    accuracies = torch.zeros(epochs)\n",
    "    model = model_factory.to('cuda:0')\n",
    "    optimizer = optimizer_factory\n",
    "    for epoch in tqdm(range(epochs)):\n",
    "        losses[epoch] = train(model, optimizer, dataloader, True)\n",
    "        accuracies[epoch] = accuracy(model, test_loader)\n",
    "        sleep(0.1)\n",
    "    return losses, accuracies\n",
    "\n",
    "def baseline_nobatch(model_factory, optimizer_factory, dataloader, epochs):\n",
    "    losses = torch.zeros(epochs)\n",
    "    accuracies = torch.zeros(epochs)\n",
    "    model = model_factory.to('cuda:0')\n",
    "    optimizer = optimizer_factory\n",
    "    for epoch in tqdm(range(epochs)):\n",
    "        losses[epoch] = train(model, optimizer, dataloader, False)\n",
    "        accuracies[epoch] = accuracy(model, test_loader)\n",
    "        sleep(0.1)\n",
    "    return losses, accuracies"
   ]
  },
  {
   "cell_type": "code",
   "execution_count": 7,
   "metadata": {},
   "outputs": [
    {
     "name": "stderr",
     "output_type": "stream",
     "text": [
      "100%|██████████| 25/25 [02:06<00:00,  5.05s/it]\n"
     ]
    }
   ],
   "source": [
    "model = Network()\n",
    "optimizer  = optim.Adam(model.parameters(), lr= 0.0005, betas= (0.9, 0.95))\n",
    "batch_losses, batch_accuracies = batch_norm(model, optimizer, train_loader, 25)"
   ]
  },
  {
   "cell_type": "code",
   "execution_count": 8,
   "metadata": {},
   "outputs": [
    {
     "name": "stderr",
     "output_type": "stream",
     "text": [
      "100%|██████████| 25/25 [02:05<00:00,  5.01s/it]\n"
     ]
    }
   ],
   "source": [
    "model1 = Network()\n",
    "optimizer1  = optim.Adam(model1.parameters(), lr= 0.005, betas= (0.9, 0.95))\n",
    "baseline_losses, baseline_accuracies = baseline_nobatch(model1, optimizer1, train_loader, 25)"
   ]
  },
  {
   "cell_type": "code",
   "execution_count": 9,
   "metadata": {},
   "outputs": [],
   "source": [
    "def plotting_losses(batch, base):\n",
    "    plt.plot(batch.detach(), 'r', label=\"With Batch Norm\")\n",
    "    plt.plot(base.detach(), 'k', label=\"Withouot Batch Norm\")\n",
    "    plt.legend()\n",
    "    plt.show()\n",
    "    \n",
    "def plotting_accuracies(batch, base):\n",
    "    plt.plot(batch, 'r', label= \"With batch norm\")\n",
    "    plt.plot(base, 'k', label= \"without batch norm\")\n",
    "    plt.legend()\n",
    "    plt.show()"
   ]
  },
  {
   "cell_type": "code",
   "execution_count": 10,
   "metadata": {},
   "outputs": [
    {
     "data": {
      "image/png": "[encoded data removed]",
      "text/plain": [
       "<Figure size 432x288 with 1 Axes>"
      ]
     },
     "metadata": {
      "needs_background": "light"
     },
     "output_type": "display_data"
    }
   ],
   "source": [
    "plotting_losses(batch_losses, baseline_losses)"
   ]
  },
  {
   "cell_type": "markdown",
   "metadata": {},
   "source": [
    "The plot above shows the loss in the training phase for first 5 epochs for the model with and without batch norm. It can be seen that the losses are decresing and a similar trend in the losses can be seen for the full length of training (25 epochs). "
   ]
  },
  {
   "cell_type": "code",
   "execution_count": 11,
   "metadata": {},
   "outputs": [
    {
     "data": {
      "image/png": "[encoded data removed]",
      "text/plain": [
       "<Figure size 432x288 with 1 Axes>"
      ]
     },
     "metadata": {
      "needs_background": "light"
     },
     "output_type": "display_data"
    }
   ],
   "source": [
    "plotting_accuracies(batch_accuracies, baseline_accuracies)"
   ]
  },
  {
   "cell_type": "markdown",
   "metadata": {},
   "source": [
    "But a different trend can be seen in the aaccuracies. The accuracy over the entire length of training is seen to be considerably lower than the baseline model. This can be due to the fact that the batch norm is applied between the layer and the activation function thus during back propagation this can result in vanishing gradiant. "
   ]
  },
  {
   "cell_type": "code",
   "execution_count": 14,
   "metadata": {},
   "outputs": [
    {
     "data": {
      "text/plain": [
       "tensor([0.3381, 0.3738, 0.3806, 0.4005, 0.3924, 0.4048, 0.4070, 0.4048, 0.3980,\n",
       "        0.4030, 0.3894, 0.4171, 0.4134, 0.4128, 0.4042, 0.4157, 0.4165, 0.4116,\n",
       "        0.4313, 0.4033, 0.4199, 0.4147, 0.4310, 0.4218, 0.4186])"
      ]
     },
     "execution_count": 14,
     "metadata": {},
     "output_type": "execute_result"
    }
   ],
   "source": [
    "baseline_accuracies"
   ]
  },
  {
   "cell_type": "code",
   "execution_count": null,
   "metadata": {},
   "outputs": [],
   "source": []
  }
 ],
 "metadata": {
  "kernelspec": {
   "display_name": "Deep L",
   "language": "python",
   "name": "deepl"
  },
  "language_info": {
   "codemirror_mode": {
    "name": "ipython",
    "version": 3
   },
   "file_extension": ".py",
   "mimetype": "text/x-python",
   "name": "python",
   "nbconvert_exporter": "python",
   "pygments_lexer": "ipython3",
   "version": "3.6.12"
  }
 },
 "nbformat": 4,
 "nbformat_minor": 4
}
