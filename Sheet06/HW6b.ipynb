{
 "cells": [
  {
   "cell_type": "code",
   "execution_count": 2,
   "metadata": {},
   "outputs": [],
   "source": [
    "import torch\n",
    "import numpy as np\n",
    "import ex\n",
    "import os\n",
    "import matplotlib.pyplot as plt\n",
    "from tqdm import tqdm\n",
    "from time import sleep \n",
    "\n",
    "from torchvision import transforms \n",
    "import torch.nn.functional as F\n",
    "import torch.nn as nn\n",
    "import torch.optim as optim "
   ]
  },
  {
   "cell_type": "code",
   "execution_count": 3,
   "metadata": {},
   "outputs": [
    {
     "data": {
      "text/plain": [
       "True"
      ]
     },
     "execution_count": 3,
     "metadata": {},
     "output_type": "execute_result"
    }
   ],
   "source": [
    "torch.cuda.is_available()"
   ]
  },
  {
   "cell_type": "code",
   "execution_count": 4,
   "metadata": {},
   "outputs": [],
   "source": [
    "file_path = \"cifar-10-batches-py\"\n",
    "train, test = ex.iter_files(file_path)"
   ]
  },
  {
   "cell_type": "code",
   "execution_count": 5,
   "metadata": {},
   "outputs": [],
   "source": [
    "def images_labels(dataset: str):\n",
    "    if dataset == \"train\":\n",
    "        labels = torch.Tensor()\n",
    "        images = torch.Tensor()\n",
    "        for batch in train:\n",
    "            lab = batch[0]\n",
    "            img = ex.batch2images(batch[1])\n",
    "            labels = torch.cat((labels, lab))\n",
    "            images = torch.cat((images, img))\n",
    "    elif dataset == \"test\":\n",
    "        images = ex.batch2images(test[0][1])\n",
    "        labels = test[0][0]\n",
    "    return images.to(torch.float), labels.to(torch.long)\n",
    "#     return images.to(torch.float)/255, labels.to(torch.long) \n",
    "\n",
    "train_images, train_labels = images_labels(\"train\")\n",
    "test_images, test_labels = images_labels(\"test\")"
   ]
  },
  {
   "cell_type": "code",
   "execution_count": 6,
   "metadata": {},
   "outputs": [],
   "source": [
    "# train_images[0]"
   ]
  },
  {
   "cell_type": "code",
   "execution_count": 14,
   "metadata": {},
   "outputs": [],
   "source": [
    "class Dataset:\n",
    "    def __init__(self, images: torch.Tensor, labels: torch.Tensor, mode: str):\n",
    "        self.mode = mode\n",
    "        self.images = images\n",
    "        self.labels = labels\n",
    "        self.train_transform = transforms.Compose([transforms.ToPILImage(),\n",
    "                                                   transforms.RandomHorizontalFlip(0.3), # FLips the image w.r.t horizontal axis\n",
    "                                                   transforms.RandomRotation(10),     #Rotates the image to a specified angel\n",
    "                                                   transforms.RandomAffine(0, shear=10, scale=(0.8,1.2)), #Performs actions like zooms, change shear angles.\n",
    "                                                   transforms.ColorJitter(brightness=0.2, contrast=0.2, saturation=0.2), # Set the color params\n",
    "                                                   transforms.ToTensor(), # comvert the image to tensor so that it can work with torch\n",
    "                                                   transforms.Normalize(mean=[0.5, 0.5, 0.5],\n",
    "                                                                        std=[0.5, 0.5, 0.5])]) #Normalize all the images\n",
    "                                                  \n",
    " \n",
    " \n",
    "        self.test_transform = transforms.Compose([transforms.ToPILImage(),\n",
    "                                                   transforms.ToTensor(),\n",
    "                                                   transforms.Normalize((0.5, 0.5, 0.5), (0.5, 0.5, 0.5))\n",
    "                                                 ])\n",
    "    def __len__(self):\n",
    "        a = self.labels.shape[0]\n",
    "        return a\n",
    "    \n",
    "    def __getitem__(self, index):\n",
    "#         image = self.images[index]\n",
    "        image = self.images[index].transpose(0,2)\n",
    "        label = self.labels[index]\n",
    "        if self.mode == \"train\":\n",
    "            image = self.train_transform(image)\n",
    "        elif self.mode == \"test\":\n",
    "            image = self.test_transform(image)\n",
    "        return image, label"
   ]
  },
  {
   "cell_type": "code",
   "execution_count": 15,
   "metadata": {},
   "outputs": [],
   "source": [
    "train_dataset = Dataset(train_images, train_labels, \"train\")\n",
    "test_dataset = Dataset(test_images, test_labels, \"test\")\n",
    "\n",
    "train_loader = torch.utils.data.DataLoader(train_dataset, batch_size = 128, shuffle = True, pin_memory=True)\n",
    "test_loader = torch.utils.data.DataLoader(test_dataset, batch_size = 128, shuffle = True, pin_memory=True)"
   ]
  },
  {
   "cell_type": "markdown",
   "metadata": {},
   "source": [
    "Below are some of the examples of images after the transforms. Some transforms like `RandomHorizontalFlip` and `RandomVerticalFlip` are applied randomly with a probability of 0.5 (set by the user)."
   ]
  },
  {
   "cell_type": "code",
   "execution_count": 16,
   "metadata": {},
   "outputs": [],
   "source": [
    "class Network(nn.Module):\n",
    "    def __init__(self):\n",
    "        super().__init__()\n",
    "        self.conv1 = nn.Conv2d(3, 32, 3)\n",
    "        self.conv2 = nn.Conv2d(32, 32, 3)\n",
    "        \n",
    "        self.conv3 = nn.Conv2d(32, 64, 3)\n",
    "        self.conv4 = nn.Conv2d(64, 64, 3)\n",
    "\n",
    "        x = torch.randn(32,32,3).view(-1,3,32,32)\n",
    "        \n",
    "        self._to_linear = None \n",
    "        self.convs(x)\n",
    "        \n",
    "        self.fc = nn.Linear(self._to_linear, 10)\n",
    "        \n",
    "    def convs(self,x):\n",
    "        # Block 1\n",
    "        x = F.relu(self.conv1(x))\n",
    "        x = F.relu(self.conv2(x))\n",
    "        x = F.max_pool2d(x , (2,2))\n",
    "        \n",
    "        #Block 2\n",
    "        x = F.relu(self.conv3(x))\n",
    "        x = F.relu(self.conv4(x))\n",
    "        x = F.max_pool2d(x , (2,2))\n",
    "        if self._to_linear is None:\n",
    "            self._to_linear = x[0].shape[0] * x[0].shape[1] * x[0].shape[2]\n",
    "        return x\n",
    "    \n",
    "    def forward(self, x):\n",
    "        x = self.convs(x)\n",
    "        x = x.view(-1, self._to_linear)\n",
    "        x = self.fc(x)\n",
    "        return x"
   ]
  },
  {
   "cell_type": "code",
   "execution_count": 17,
   "metadata": {},
   "outputs": [],
   "source": [
    "def train(model, optimizer, dataloader):\n",
    "    for x,y in dataloader:\n",
    "        x, y = x.to('cuda:0'), y.to('cuda:0')\n",
    "        optimizer.zero_grad()\n",
    "        prediction = model.forward(x)\n",
    "        loss = nn.CrossEntropyLoss()\n",
    "        output_loss = loss(prediction, y)\n",
    "        output_loss.backward()\n",
    "        optimizer.step()\n",
    "    return output_loss\n",
    "\n",
    "def accuracy(model, dataloader):\n",
    "    hits = 0\n",
    "    with torch.no_grad():\n",
    "        for x, y in dataloader:\n",
    "            x, y = x.to('cuda:0'), y.to('cuda:0')\n",
    "            prediction = model.forward(x)\n",
    "            prediction = torch.argmax(prediction, dim=1)\n",
    "            hits += (prediction == y).count_nonzero()\n",
    "    acc = hits / len(dataloader.dataset)\n",
    "    return acc"
   ]
  },
  {
   "cell_type": "code",
   "execution_count": 18,
   "metadata": {},
   "outputs": [],
   "source": [
    "def training(model_factory, dataloader, optimizer_factory, epochs):\n",
    "    losses = torch.zeros(epochs)\n",
    "    accuracies = torch.zeros(epochs)\n",
    "    model = model_factory.to('cuda:0')\n",
    "    optimizer = optimizer_factory\n",
    "    \n",
    "    for epoch in tqdm(range(epochs)):\n",
    "        losses[epoch] = train(model, optimizer, dataloader)\n",
    "        accuracies[epoch] = accuracy(model, test_loader)\n",
    "        sleep(0.1)\n",
    "        print(f\"Loss of Epoch {epoch} is {losses[epoch]}\")\n",
    "        print(f\"Accuracy of Epoch {epoch} is {accuracies[epoch]}\")\n",
    "    return losses, accuracies"
   ]
  },
  {
   "cell_type": "code",
   "execution_count": 19,
   "metadata": {},
   "outputs": [
    {
     "name": "stderr",
     "output_type": "stream",
     "text": [
      "  4%|▍         | 1/25 [00:29<11:44, 29.36s/it]"
     ]
    },
    {
     "name": "stdout",
     "output_type": "stream",
     "text": [
      "Loss of Epoch 0 is 1.689257025718689\n",
      "Accuracy of Epoch 0 is 0.4106999933719635\n"
     ]
    },
    {
     "name": "stderr",
     "output_type": "stream",
     "text": [
      "  8%|▊         | 2/25 [00:58<11:14, 29.32s/it]"
     ]
    },
    {
     "name": "stdout",
     "output_type": "stream",
     "text": [
      "Loss of Epoch 1 is 1.5817596912384033\n",
      "Accuracy of Epoch 1 is 0.4861999750137329\n"
     ]
    },
    {
     "name": "stderr",
     "output_type": "stream",
     "text": [
      " 12%|█▏        | 3/25 [01:27<10:44, 29.27s/it]"
     ]
    },
    {
     "name": "stdout",
     "output_type": "stream",
     "text": [
      "Loss of Epoch 2 is 1.3382668495178223\n",
      "Accuracy of Epoch 2 is 0.5116999745368958\n"
     ]
    },
    {
     "name": "stderr",
     "output_type": "stream",
     "text": [
      " 16%|█▌        | 4/25 [01:56<10:14, 29.24s/it]"
     ]
    },
    {
     "name": "stdout",
     "output_type": "stream",
     "text": [
      "Loss of Epoch 3 is 1.3128012418746948\n",
      "Accuracy of Epoch 3 is 0.5534999966621399\n"
     ]
    },
    {
     "name": "stderr",
     "output_type": "stream",
     "text": [
      " 20%|██        | 5/25 [02:26<09:44, 29.22s/it]"
     ]
    },
    {
     "name": "stdout",
     "output_type": "stream",
     "text": [
      "Loss of Epoch 4 is 1.1723840236663818\n",
      "Accuracy of Epoch 4 is 0.5726999640464783\n"
     ]
    },
    {
     "name": "stderr",
     "output_type": "stream",
     "text": [
      " 24%|██▍       | 6/25 [02:56<09:23, 29.68s/it]"
     ]
    },
    {
     "name": "stdout",
     "output_type": "stream",
     "text": [
      "Loss of Epoch 5 is 1.2884705066680908\n",
      "Accuracy of Epoch 5 is 0.5873000025749207\n"
     ]
    },
    {
     "name": "stderr",
     "output_type": "stream",
     "text": [
      " 28%|██▊       | 7/25 [03:26<08:52, 29.58s/it]"
     ]
    },
    {
     "name": "stdout",
     "output_type": "stream",
     "text": [
      "Loss of Epoch 6 is 1.2652548551559448\n",
      "Accuracy of Epoch 6 is 0.5988999605178833\n"
     ]
    },
    {
     "name": "stderr",
     "output_type": "stream",
     "text": [
      " 32%|███▏      | 8/25 [03:55<08:20, 29.45s/it]"
     ]
    },
    {
     "name": "stdout",
     "output_type": "stream",
     "text": [
      "Loss of Epoch 7 is 1.3614375591278076\n",
      "Accuracy of Epoch 7 is 0.6148999929428101\n"
     ]
    },
    {
     "name": "stderr",
     "output_type": "stream",
     "text": [
      " 36%|███▌      | 9/25 [04:24<07:51, 29.45s/it]"
     ]
    },
    {
     "name": "stdout",
     "output_type": "stream",
     "text": [
      "Loss of Epoch 8 is 1.2599239349365234\n",
      "Accuracy of Epoch 8 is 0.6207000017166138\n"
     ]
    },
    {
     "name": "stderr",
     "output_type": "stream",
     "text": [
      " 40%|████      | 10/25 [04:54<07:21, 29.46s/it]"
     ]
    },
    {
     "name": "stdout",
     "output_type": "stream",
     "text": [
      "Loss of Epoch 9 is 1.0122946500778198\n",
      "Accuracy of Epoch 9 is 0.630899965763092\n"
     ]
    },
    {
     "name": "stderr",
     "output_type": "stream",
     "text": [
      " 44%|████▍     | 11/25 [05:24<06:54, 29.63s/it]"
     ]
    },
    {
     "name": "stdout",
     "output_type": "stream",
     "text": [
      "Loss of Epoch 10 is 1.3933899402618408\n",
      "Accuracy of Epoch 10 is 0.6504999995231628\n"
     ]
    },
    {
     "name": "stderr",
     "output_type": "stream",
     "text": [
      " 48%|████▊     | 12/25 [05:54<06:29, 29.93s/it]"
     ]
    },
    {
     "name": "stdout",
     "output_type": "stream",
     "text": [
      "Loss of Epoch 11 is 1.219300627708435\n",
      "Accuracy of Epoch 11 is 0.6603999733924866\n"
     ]
    },
    {
     "name": "stderr",
     "output_type": "stream",
     "text": [
      " 52%|█████▏    | 13/25 [06:25<05:59, 29.99s/it]"
     ]
    },
    {
     "name": "stdout",
     "output_type": "stream",
     "text": [
      "Loss of Epoch 12 is 1.1970078945159912\n",
      "Accuracy of Epoch 12 is 0.6545999646186829\n"
     ]
    },
    {
     "name": "stderr",
     "output_type": "stream",
     "text": [
      " 56%|█████▌    | 14/25 [06:55<05:29, 29.99s/it]"
     ]
    },
    {
     "name": "stdout",
     "output_type": "stream",
     "text": [
      "Loss of Epoch 13 is 1.3046292066574097\n",
      "Accuracy of Epoch 13 is 0.659500002861023\n"
     ]
    },
    {
     "name": "stderr",
     "output_type": "stream",
     "text": [
      " 60%|██████    | 15/25 [07:24<04:58, 29.89s/it]"
     ]
    },
    {
     "name": "stdout",
     "output_type": "stream",
     "text": [
      "Loss of Epoch 14 is 1.003197193145752\n",
      "Accuracy of Epoch 14 is 0.6662999987602234\n"
     ]
    },
    {
     "name": "stderr",
     "output_type": "stream",
     "text": [
      " 64%|██████▍   | 16/25 [07:54<04:29, 29.90s/it]"
     ]
    },
    {
     "name": "stdout",
     "output_type": "stream",
     "text": [
      "Loss of Epoch 15 is 0.9773710370063782\n",
      "Accuracy of Epoch 15 is 0.6768999695777893\n"
     ]
    },
    {
     "name": "stderr",
     "output_type": "stream",
     "text": [
      " 68%|██████▊   | 17/25 [08:24<04:00, 30.02s/it]"
     ]
    },
    {
     "name": "stdout",
     "output_type": "stream",
     "text": [
      "Loss of Epoch 16 is 0.8931859731674194\n",
      "Accuracy of Epoch 16 is 0.6736999750137329\n"
     ]
    },
    {
     "name": "stderr",
     "output_type": "stream",
     "text": [
      " 72%|███████▏  | 18/25 [08:55<03:31, 30.15s/it]"
     ]
    },
    {
     "name": "stdout",
     "output_type": "stream",
     "text": [
      "Loss of Epoch 17 is 1.0301859378814697\n",
      "Accuracy of Epoch 17 is 0.6794999837875366\n"
     ]
    },
    {
     "name": "stderr",
     "output_type": "stream",
     "text": [
      " 76%|███████▌  | 19/25 [09:25<03:01, 30.20s/it]"
     ]
    },
    {
     "name": "stdout",
     "output_type": "stream",
     "text": [
      "Loss of Epoch 18 is 0.9605079889297485\n",
      "Accuracy of Epoch 18 is 0.6821999549865723\n"
     ]
    },
    {
     "name": "stderr",
     "output_type": "stream",
     "text": [
      " 80%|████████  | 20/25 [09:56<02:31, 30.27s/it]"
     ]
    },
    {
     "name": "stdout",
     "output_type": "stream",
     "text": [
      "Loss of Epoch 19 is 1.0255753993988037\n",
      "Accuracy of Epoch 19 is 0.6868999600410461\n"
     ]
    },
    {
     "name": "stderr",
     "output_type": "stream",
     "text": [
      " 84%|████████▍ | 21/25 [10:26<02:01, 30.45s/it]"
     ]
    },
    {
     "name": "stdout",
     "output_type": "stream",
     "text": [
      "Loss of Epoch 20 is 0.7889000177383423\n",
      "Accuracy of Epoch 20 is 0.6872000098228455\n"
     ]
    },
    {
     "name": "stderr",
     "output_type": "stream",
     "text": [
      " 88%|████████▊ | 22/25 [10:57<01:31, 30.49s/it]"
     ]
    },
    {
     "name": "stdout",
     "output_type": "stream",
     "text": [
      "Loss of Epoch 21 is 0.7054110765457153\n",
      "Accuracy of Epoch 21 is 0.6832000017166138\n"
     ]
    },
    {
     "name": "stderr",
     "output_type": "stream",
     "text": [
      " 92%|█████████▏| 23/25 [11:27<01:00, 30.39s/it]"
     ]
    },
    {
     "name": "stdout",
     "output_type": "stream",
     "text": [
      "Loss of Epoch 22 is 0.9991517066955566\n",
      "Accuracy of Epoch 22 is 0.699999988079071\n"
     ]
    },
    {
     "name": "stderr",
     "output_type": "stream",
     "text": [
      " 96%|█████████▌| 24/25 [11:57<00:30, 30.28s/it]"
     ]
    },
    {
     "name": "stdout",
     "output_type": "stream",
     "text": [
      "Loss of Epoch 23 is 0.9182754755020142\n",
      "Accuracy of Epoch 23 is 0.7023999691009521\n"
     ]
    },
    {
     "name": "stderr",
     "output_type": "stream",
     "text": [
      "100%|██████████| 25/25 [12:27<00:00, 29.91s/it]"
     ]
    },
    {
     "name": "stdout",
     "output_type": "stream",
     "text": [
      "Loss of Epoch 24 is 1.0454332828521729\n",
      "Accuracy of Epoch 24 is 0.6972000002861023\n"
     ]
    },
    {
     "name": "stderr",
     "output_type": "stream",
     "text": [
      "\n"
     ]
    }
   ],
   "source": [
    "model = Network()\n",
    "optimizer = optim.Adam(model.parameters(), lr=0.0005, betas=(0.9, 0.95))\n",
    "losses, accuracies = training(model, train_loader, optimizer, 25) "
   ]
  },
  {
   "cell_type": "code",
   "execution_count": 289,
   "metadata": {},
   "outputs": [],
   "source": [
    "def plotting_losses(cnn):\n",
    "    plt.plot(cnn.detach(), 'r', label=\"CNN\")\n",
    "#     plt.plot(fc, 'k', label=\"baseline\")\n",
    "    plt.legend()\n",
    "    plt.show()\n",
    "    \n",
    "def acc_plot(cnn):\n",
    "    plt.plot(cnn, 'r', label=\"CNN\")\n",
    "#     plt.plot(fc, 'k', label=\"Dense\")\n",
    "    plt.legend()\n",
    "    plt.show()"
   ]
  },
  {
   "cell_type": "code",
   "execution_count": 290,
   "metadata": {},
   "outputs": [
    {
     "data": {
      "image/png": "[encoded data removed]",
      "text/plain": [
       "<Figure size 432x288 with 1 Axes>"
      ]
     },
     "metadata": {
      "needs_background": "light"
     },
     "output_type": "display_data"
    }
   ],
   "source": [
    "plotting_losses(losses)"
   ]
  },
  {
   "cell_type": "code",
   "execution_count": 291,
   "metadata": {},
   "outputs": [
    {
     "data": {
      "image/png": "[encoded data removed]",
      "text/plain": [
       "<Figure size 432x288 with 1 Axes>"
      ]
     },
     "metadata": {
      "needs_background": "light"
     },
     "output_type": "display_data"
    }
   ],
   "source": [
    "acc_plot(accuracies)"
   ]
  },
  {
   "cell_type": "code",
   "execution_count": null,
   "metadata": {},
   "outputs": [],
   "source": []
  },
  {
   "cell_type": "code",
   "execution_count": null,
   "metadata": {},
   "outputs": [],
   "source": []
  }
 ],
 "metadata": {
  "kernelspec": {
   "display_name": "Deep L",
   "language": "python",
   "name": "deepl"
  },
  "language_info": {
   "codemirror_mode": {
    "name": "ipython",
    "version": 3
   },
   "file_extension": ".py",
   "mimetype": "text/x-python",
   "name": "python",
   "nbconvert_exporter": "python",
   "pygments_lexer": "ipython3",
   "version": "3.6.12"
  }
 },
 "nbformat": 4,
 "nbformat_minor": 4
}
