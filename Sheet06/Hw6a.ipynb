{
 "cells": [
  {
   "cell_type": "code",
   "execution_count": 1,
   "metadata": {},
   "outputs": [],
   "source": [
    "import matplotlib.pyplot as plt\n",
    "import numpy as np\n",
    "import torch\n",
    "from tqdm import tqdm\n",
    "from time import sleep \n",
    "\n",
    "from torchvision import datasets\n",
    "import torchvision.transforms as transforms\n",
    "\n",
    "import torch.nn.functional as F\n",
    "import torch.nn as nn\n",
    "import torch.optim as optim "
   ]
  },
  {
   "cell_type": "code",
   "execution_count": 2,
   "metadata": {},
   "outputs": [
    {
     "data": {
      "text/plain": [
       "True"
      ]
     },
     "execution_count": 2,
     "metadata": {},
     "output_type": "execute_result"
    }
   ],
   "source": [
    "torch.cuda.is_available()"
   ]
  },
  {
   "cell_type": "code",
   "execution_count": 40,
   "metadata": {},
   "outputs": [],
   "source": [
    "train_dataset = datasets.CIFAR10(root = \"cifar/\", train = True, download = False, transform = transforms.ToTensor())\n",
    "test_dataset = datasets.CIFAR10(root = \"cifar/\", train = False, download = False, transform = transforms.ToTensor())\n",
    "\n",
    "train_loader = torch.utils.data.DataLoader(train_dataset, batch_size = 128, shuffle = True, pin_memory=True)\n",
    "test_loader = torch.utils.data.DataLoader(test_dataset, batch_size = 128, shuffle = True, pin_memory=True)"
   ]
  },
  {
   "cell_type": "code",
   "execution_count": 41,
   "metadata": {},
   "outputs": [],
   "source": [
    "def train(model, optimizer, dataloader):\n",
    "    for x,y in dataloader:\n",
    "        x, y = x.to('cuda:0'), y.to('cuda:0')\n",
    "        optimizer.zero_grad()\n",
    "        prediction = model.forward(x)\n",
    "\n",
    "        loss = nn.CrossEntropyLoss()\n",
    "        output_loss = loss(prediction, y)\n",
    "        output_loss.backward()\n",
    "        optimizer.step()\n",
    "    return output_loss\n",
    "\n",
    "def accuracy(model, dataloader):\n",
    "    hits = 0\n",
    "    with torch.no_grad():\n",
    "        for x, y in dataloader:\n",
    "            x, y = x.to('cuda:0'), y.to('cuda:0')\n",
    "            prediction = model.forward(x)\n",
    "            prediction = torch.argmax(prediction, dim=1)\n",
    "            hits += (prediction == y).count_nonzero()\n",
    "    acc = hits / len(dataloader.dataset)\n",
    "    return acc"
   ]
  },
  {
   "cell_type": "code",
   "execution_count": 42,
   "metadata": {},
   "outputs": [],
   "source": [
    "class Network_FC(nn.Module):\n",
    "    def __init__(self):\n",
    "        super().__init__()\n",
    "        self.fc1 = nn.Linear(32*32*3, 512)\n",
    "        self.bn1 = nn.BatchNorm1d(512, affine=True)\n",
    "        self.bn2 = nn.BatchNorm1d(512, affine=True)\n",
    "        self.fc2 = nn.Linear(512, 512)\n",
    "        self.fc3 = nn.Linear(512, 10)\n",
    "        \n",
    "    def forward(self, x):\n",
    "        x = x.reshape(-1, 32*32*3)\n",
    "        x = F.relu(self.bn1(self.fc1(x)))\n",
    "        x = F.relu(self.bn2(self.fc2(x)))\n",
    "        x = self.fc3(x)\n",
    "        return x\n",
    "    \n",
    "    def forward_test(self, x):\n",
    "        x = x.reshape(-1, 32*32*3)\n",
    "        x = F.relu(self.fc1(x))\n",
    "        x = F.relu(self.fc2(x))\n",
    "        x = self.fc3(x)\n",
    "        return x"
   ]
  },
  {
   "cell_type": "code",
   "execution_count": 43,
   "metadata": {},
   "outputs": [],
   "source": [
    "def train_fc(model, optimizer, dataloader, batch:bool):\n",
    "    for x, y in dataloader:\n",
    "        x, y = x.to('cuda:0'), y.to('cuda:0')\n",
    "        optimizer.zero_grad()\n",
    "        if batch == True:\n",
    "            prediction = model.forward(x)\n",
    "        else: \n",
    "            prediction = model.forward_test(x)\n",
    "        loss = nn.CrossEntropyLoss()\n",
    "        output_loss = loss(prediction, y.to(torch.long))\n",
    "        output_loss.backward()\n",
    "        optimizer.step()\n",
    "    return output_loss\n",
    "\n",
    "def accuracy_fc(model, dataloader):\n",
    "    hits = 0\n",
    "    with torch.no_grad():\n",
    "        for x, y in dataloader:\n",
    "            x, y = x.to('cuda:0'), y.to('cuda:0')\n",
    "            prediction = model.forward_test(x)\n",
    "            prediction = torch.argmax(prediction, dim=1)\n",
    "            hits += (prediction == y).count_nonzero()\n",
    "    acc = hits / len(dataloader.dataset)\n",
    "    return acc"
   ]
  },
  {
   "cell_type": "code",
   "execution_count": 44,
   "metadata": {},
   "outputs": [],
   "source": [
    "def batch_norm(model_factory, optimizer_factory, dataloader, epochs):\n",
    "    losses = torch.zeros(epochs)\n",
    "    accuracies = torch.zeros(epochs)\n",
    "    model = model_factory.to('cuda:0')\n",
    "    optimizer = optimizer_factory\n",
    "    for epoch in tqdm(range(epochs)):\n",
    "        losses[epoch] = train_fc(model, optimizer, dataloader, True)\n",
    "        accuracies[epoch] = accuracy_fc(model, test_loader)\n",
    "        print(f\"The loss of {epoch} is {losses[epoch]}\")\n",
    "        print(f\"The accuracy of {epoch} is {accuracies[epoch]}\")\n",
    "        sleep(0.1)\n",
    "    return losses, accuracies"
   ]
  },
  {
   "cell_type": "code",
   "execution_count": 45,
   "metadata": {},
   "outputs": [
    {
     "name": "stderr",
     "output_type": "stream",
     "text": [
      "  4%|▍         | 1/25 [00:04<01:55,  4.79s/it]"
     ]
    },
    {
     "name": "stdout",
     "output_type": "stream",
     "text": [
      "The loss of 0 is 1.4370720386505127\n",
      "The accuracy of 0 is 0.14800000190734863\n"
     ]
    },
    {
     "name": "stderr",
     "output_type": "stream",
     "text": [
      "  8%|▊         | 2/25 [00:09<01:51,  4.84s/it]"
     ]
    },
    {
     "name": "stdout",
     "output_type": "stream",
     "text": [
      "The loss of 1 is 1.2571609020233154\n",
      "The accuracy of 1 is 0.1525999903678894\n"
     ]
    },
    {
     "name": "stderr",
     "output_type": "stream",
     "text": [
      " 12%|█▏        | 3/25 [00:14<01:47,  4.89s/it]"
     ]
    },
    {
     "name": "stdout",
     "output_type": "stream",
     "text": [
      "The loss of 2 is 1.200891375541687\n",
      "The accuracy of 2 is 0.15649999678134918\n"
     ]
    },
    {
     "name": "stderr",
     "output_type": "stream",
     "text": [
      " 16%|█▌        | 4/25 [00:19<01:42,  4.86s/it]"
     ]
    },
    {
     "name": "stdout",
     "output_type": "stream",
     "text": [
      "The loss of 3 is 1.1383662223815918\n",
      "The accuracy of 3 is 0.15600000321865082\n"
     ]
    },
    {
     "name": "stderr",
     "output_type": "stream",
     "text": [
      " 20%|██        | 5/25 [00:24<01:37,  4.87s/it]"
     ]
    },
    {
     "name": "stdout",
     "output_type": "stream",
     "text": [
      "The loss of 4 is 1.1768920421600342\n",
      "The accuracy of 4 is 0.13159999251365662\n"
     ]
    },
    {
     "name": "stderr",
     "output_type": "stream",
     "text": [
      " 24%|██▍       | 6/25 [00:29<01:32,  4.86s/it]"
     ]
    },
    {
     "name": "stdout",
     "output_type": "stream",
     "text": [
      "The loss of 5 is 0.868902325630188\n",
      "The accuracy of 5 is 0.11339999735355377\n"
     ]
    },
    {
     "name": "stderr",
     "output_type": "stream",
     "text": [
      " 28%|██▊       | 7/25 [00:34<01:27,  4.84s/it]"
     ]
    },
    {
     "name": "stdout",
     "output_type": "stream",
     "text": [
      "The loss of 6 is 0.9044333696365356\n",
      "The accuracy of 6 is 0.2223999947309494\n"
     ]
    },
    {
     "name": "stderr",
     "output_type": "stream",
     "text": [
      " 32%|███▏      | 8/25 [00:38<01:22,  4.86s/it]"
     ]
    },
    {
     "name": "stdout",
     "output_type": "stream",
     "text": [
      "The loss of 7 is 0.7373915910720825\n",
      "The accuracy of 7 is 0.13189999759197235\n"
     ]
    },
    {
     "name": "stderr",
     "output_type": "stream",
     "text": [
      " 36%|███▌      | 9/25 [00:43<01:17,  4.86s/it]"
     ]
    },
    {
     "name": "stdout",
     "output_type": "stream",
     "text": [
      "The loss of 8 is 0.8337219953536987\n",
      "The accuracy of 8 is 0.18959999084472656\n"
     ]
    },
    {
     "name": "stderr",
     "output_type": "stream",
     "text": [
      " 40%|████      | 10/25 [00:48<01:12,  4.81s/it]"
     ]
    },
    {
     "name": "stdout",
     "output_type": "stream",
     "text": [
      "The loss of 9 is 0.5552576780319214\n",
      "The accuracy of 9 is 0.1809999942779541\n"
     ]
    },
    {
     "name": "stderr",
     "output_type": "stream",
     "text": [
      " 44%|████▍     | 11/25 [00:53<01:07,  4.80s/it]"
     ]
    },
    {
     "name": "stdout",
     "output_type": "stream",
     "text": [
      "The loss of 10 is 0.6842232346534729\n",
      "The accuracy of 10 is 0.11789999902248383\n"
     ]
    },
    {
     "name": "stderr",
     "output_type": "stream",
     "text": [
      " 48%|████▊     | 12/25 [00:58<01:02,  4.80s/it]"
     ]
    },
    {
     "name": "stdout",
     "output_type": "stream",
     "text": [
      "The loss of 11 is 0.6714627146720886\n",
      "The accuracy of 11 is 0.23729999363422394\n"
     ]
    },
    {
     "name": "stderr",
     "output_type": "stream",
     "text": [
      " 52%|█████▏    | 13/25 [01:02<00:57,  4.78s/it]"
     ]
    },
    {
     "name": "stdout",
     "output_type": "stream",
     "text": [
      "The loss of 12 is 0.6028063893318176\n",
      "The accuracy of 12 is 0.18150000274181366\n"
     ]
    },
    {
     "name": "stderr",
     "output_type": "stream",
     "text": [
      " 56%|█████▌    | 14/25 [01:07<00:52,  4.78s/it]"
     ]
    },
    {
     "name": "stdout",
     "output_type": "stream",
     "text": [
      "The loss of 13 is 0.6381157040596008\n",
      "The accuracy of 13 is 0.15629999339580536\n"
     ]
    },
    {
     "name": "stderr",
     "output_type": "stream",
     "text": [
      " 60%|██████    | 15/25 [01:12<00:47,  4.77s/it]"
     ]
    },
    {
     "name": "stdout",
     "output_type": "stream",
     "text": [
      "The loss of 14 is 0.6121333241462708\n",
      "The accuracy of 14 is 0.15109999477863312\n"
     ]
    },
    {
     "name": "stderr",
     "output_type": "stream",
     "text": [
      " 64%|██████▍   | 16/25 [01:17<00:42,  4.74s/it]"
     ]
    },
    {
     "name": "stdout",
     "output_type": "stream",
     "text": [
      "The loss of 15 is 0.43031033873558044\n",
      "The accuracy of 15 is 0.12860000133514404\n"
     ]
    },
    {
     "name": "stderr",
     "output_type": "stream",
     "text": [
      " 68%|██████▊   | 17/25 [01:21<00:37,  4.72s/it]"
     ]
    },
    {
     "name": "stdout",
     "output_type": "stream",
     "text": [
      "The loss of 16 is 0.536955714225769\n",
      "The accuracy of 16 is 0.2052999883890152\n"
     ]
    },
    {
     "name": "stderr",
     "output_type": "stream",
     "text": [
      " 72%|███████▏  | 18/25 [01:26<00:32,  4.71s/it]"
     ]
    },
    {
     "name": "stdout",
     "output_type": "stream",
     "text": [
      "The loss of 17 is 0.39139771461486816\n",
      "The accuracy of 17 is 0.17249999940395355\n"
     ]
    },
    {
     "name": "stderr",
     "output_type": "stream",
     "text": [
      " 76%|███████▌  | 19/25 [01:31<00:28,  4.75s/it]"
     ]
    },
    {
     "name": "stdout",
     "output_type": "stream",
     "text": [
      "The loss of 18 is 0.33545058965682983\n",
      "The accuracy of 18 is 0.2255999892950058\n"
     ]
    },
    {
     "name": "stderr",
     "output_type": "stream",
     "text": [
      " 80%|████████  | 20/25 [01:36<00:23,  4.76s/it]"
     ]
    },
    {
     "name": "stdout",
     "output_type": "stream",
     "text": [
      "The loss of 19 is 0.30182334780693054\n",
      "The accuracy of 19 is 0.1914999932050705\n"
     ]
    },
    {
     "name": "stderr",
     "output_type": "stream",
     "text": [
      " 84%|████████▍ | 21/25 [01:40<00:18,  4.75s/it]"
     ]
    },
    {
     "name": "stdout",
     "output_type": "stream",
     "text": [
      "The loss of 20 is 0.30502521991729736\n",
      "The accuracy of 20 is 0.21289999783039093\n"
     ]
    },
    {
     "name": "stderr",
     "output_type": "stream",
     "text": [
      " 88%|████████▊ | 22/25 [01:45<00:14,  4.72s/it]"
     ]
    },
    {
     "name": "stdout",
     "output_type": "stream",
     "text": [
      "The loss of 21 is 0.2944647967815399\n",
      "The accuracy of 21 is 0.2345999926328659\n"
     ]
    },
    {
     "name": "stderr",
     "output_type": "stream",
     "text": [
      " 92%|█████████▏| 23/25 [01:50<00:09,  4.72s/it]"
     ]
    },
    {
     "name": "stdout",
     "output_type": "stream",
     "text": [
      "The loss of 22 is 0.2116018533706665\n",
      "The accuracy of 22 is 0.1664000004529953\n"
     ]
    },
    {
     "name": "stderr",
     "output_type": "stream",
     "text": [
      " 96%|█████████▌| 24/25 [01:54<00:04,  4.71s/it]"
     ]
    },
    {
     "name": "stdout",
     "output_type": "stream",
     "text": [
      "The loss of 23 is 0.12682011723518372\n",
      "The accuracy of 23 is 0.18389999866485596\n"
     ]
    },
    {
     "name": "stderr",
     "output_type": "stream",
     "text": [
      "100%|██████████| 25/25 [01:59<00:00,  4.78s/it]"
     ]
    },
    {
     "name": "stdout",
     "output_type": "stream",
     "text": [
      "The loss of 24 is 0.2463037222623825\n",
      "The accuracy of 24 is 0.2320999950170517\n"
     ]
    },
    {
     "name": "stderr",
     "output_type": "stream",
     "text": [
      "\n"
     ]
    }
   ],
   "source": [
    "model1 = Network_FC()\n",
    "optimizer1  = optim.Adam(model1.parameters(), lr= 0.0005, betas= (0.9, 0.95))\n",
    "batch_losses, batch_accuracies = batch_norm(model1, optimizer1, train_loader, 25)"
   ]
  },
  {
   "cell_type": "code",
   "execution_count": 46,
   "metadata": {},
   "outputs": [],
   "source": [
    "class Network_CNN(nn.Module):\n",
    "    def __init__(self):\n",
    "        super().__init__()\n",
    "        self.conv1 = nn.Conv2d(3, 32, 3)\n",
    "        self.conv2 = nn.Conv2d(32, 32, 3)\n",
    "        \n",
    "        self.conv3 = nn.Conv2d(32, 64, 3)\n",
    "        self.conv4 = nn.Conv2d(64, 64, 3)\n",
    "\n",
    "        x = torch.randn(32,32,3).view(-1,3,32,32)\n",
    "        \n",
    "        self._to_linear = None \n",
    "        self.convs(x)\n",
    "        \n",
    "        self.fc = nn.Linear(self._to_linear, 10)\n",
    "        \n",
    "    def convs(self,x):\n",
    "        # Block 1\n",
    "        x = F.relu(self.conv1(x))\n",
    "        x = F.relu(self.conv2(x))\n",
    "        x = F.max_pool2d(x , (2,2))\n",
    "        \n",
    "        #Block 2\n",
    "        x = F.relu(self.conv3(x))\n",
    "        x = F.relu(self.conv4(x))\n",
    "        x = F.max_pool2d(x , (2,2))\n",
    "        if self._to_linear is None:\n",
    "            self._to_linear = x[0].shape[0] * x[0].shape[1] * x[0].shape[2]\n",
    "        return x\n",
    "    \n",
    "    def forward(self, x):\n",
    "        x = self.convs(x)\n",
    "        x = x.view(-1, self._to_linear)\n",
    "        x = self.fc(x)\n",
    "        return x"
   ]
  },
  {
   "cell_type": "code",
   "execution_count": 47,
   "metadata": {},
   "outputs": [],
   "source": [
    "def training(model_factory, dataloader, optimizer_factory, epochs):\n",
    "    losses = torch.zeros(epochs)\n",
    "    accuracies = torch.zeros(epochs)\n",
    "    model = model_factory.to('cuda:0')\n",
    "    optimizer = optimizer_factory\n",
    "    \n",
    "    for epoch in tqdm(range(epochs)):\n",
    "        losses[epoch] = train(model, optimizer, dataloader)\n",
    "        accuracies[epoch] = accuracy(model, test_loader)\n",
    "        print(f\"The loss of {epoch} is {losses[epoch]}\")\n",
    "        print(f\"The accuracy of {epoch} is {accuracies[epoch]}\")\n",
    "        sleep(0.1)\n",
    "    return losses, accuracies"
   ]
  },
  {
   "cell_type": "code",
   "execution_count": 48,
   "metadata": {
    "collapsed": true,
    "jupyter": {
     "outputs_hidden": true
    }
   },
   "outputs": [
    {
     "name": "stderr",
     "output_type": "stream",
     "text": [
      "  4%|▍         | 1/25 [00:04<01:59,  4.99s/it]"
     ]
    },
    {
     "name": "stdout",
     "output_type": "stream",
     "text": [
      "The loss of 0 is 1.3572357892990112\n",
      "The accuracy of 0 is 0.42729997634887695\n"
     ]
    },
    {
     "name": "stderr",
     "output_type": "stream",
     "text": [
      "  8%|▊         | 2/25 [00:10<01:56,  5.07s/it]"
     ]
    },
    {
     "name": "stdout",
     "output_type": "stream",
     "text": [
      "The loss of 1 is 1.547735333442688\n",
      "The accuracy of 1 is 0.48539999127388\n"
     ]
    },
    {
     "name": "stderr",
     "output_type": "stream",
     "text": [
      " 12%|█▏        | 3/25 [00:15<01:51,  5.06s/it]"
     ]
    },
    {
     "name": "stdout",
     "output_type": "stream",
     "text": [
      "The loss of 2 is 1.3679765462875366\n",
      "The accuracy of 2 is 0.5026000142097473\n"
     ]
    },
    {
     "name": "stderr",
     "output_type": "stream",
     "text": [
      " 16%|█▌        | 4/25 [00:20<01:47,  5.14s/it]"
     ]
    },
    {
     "name": "stdout",
     "output_type": "stream",
     "text": [
      "The loss of 3 is 1.1652354001998901\n",
      "The accuracy of 3 is 0.5508999824523926\n"
     ]
    },
    {
     "name": "stderr",
     "output_type": "stream",
     "text": [
      " 20%|██        | 5/25 [00:26<01:44,  5.24s/it]"
     ]
    },
    {
     "name": "stdout",
     "output_type": "stream",
     "text": [
      "The loss of 4 is 1.3515493869781494\n",
      "The accuracy of 4 is 0.5888000130653381\n"
     ]
    },
    {
     "name": "stderr",
     "output_type": "stream",
     "text": [
      " 24%|██▍       | 6/25 [00:31<01:39,  5.24s/it]"
     ]
    },
    {
     "name": "stdout",
     "output_type": "stream",
     "text": [
      "The loss of 5 is 1.195068359375\n",
      "The accuracy of 5 is 0.6176999807357788\n"
     ]
    },
    {
     "name": "stderr",
     "output_type": "stream",
     "text": [
      " 28%|██▊       | 7/25 [00:36<01:35,  5.32s/it]"
     ]
    },
    {
     "name": "stdout",
     "output_type": "stream",
     "text": [
      "The loss of 6 is 1.0707569122314453\n",
      "The accuracy of 6 is 0.6270999908447266\n"
     ]
    },
    {
     "name": "stderr",
     "output_type": "stream",
     "text": [
      " 32%|███▏      | 8/25 [00:42<01:31,  5.37s/it]"
     ]
    },
    {
     "name": "stdout",
     "output_type": "stream",
     "text": [
      "The loss of 7 is 1.0532087087631226\n",
      "The accuracy of 7 is 0.655299961566925\n"
     ]
    },
    {
     "name": "stderr",
     "output_type": "stream",
     "text": [
      " 36%|███▌      | 9/25 [00:47<01:27,  5.45s/it]"
     ]
    },
    {
     "name": "stdout",
     "output_type": "stream",
     "text": [
      "The loss of 8 is 0.8564445376396179\n",
      "The accuracy of 8 is 0.65829998254776\n"
     ]
    },
    {
     "name": "stderr",
     "output_type": "stream",
     "text": [
      " 40%|████      | 10/25 [00:53<01:21,  5.43s/it]"
     ]
    },
    {
     "name": "stdout",
     "output_type": "stream",
     "text": [
      "The loss of 9 is 0.7977771759033203\n",
      "The accuracy of 9 is 0.6750999689102173\n"
     ]
    },
    {
     "name": "stderr",
     "output_type": "stream",
     "text": [
      " 44%|████▍     | 11/25 [00:58<01:16,  5.43s/it]"
     ]
    },
    {
     "name": "stdout",
     "output_type": "stream",
     "text": [
      "The loss of 10 is 1.005976915359497\n",
      "The accuracy of 10 is 0.6883999705314636\n"
     ]
    },
    {
     "name": "stderr",
     "output_type": "stream",
     "text": [
      " 48%|████▊     | 12/25 [01:04<01:09,  5.37s/it]"
     ]
    },
    {
     "name": "stdout",
     "output_type": "stream",
     "text": [
      "The loss of 11 is 0.6366170644760132\n",
      "The accuracy of 11 is 0.6876999735832214\n"
     ]
    },
    {
     "name": "stderr",
     "output_type": "stream",
     "text": [
      " 52%|█████▏    | 13/25 [01:09<01:04,  5.34s/it]"
     ]
    },
    {
     "name": "stdout",
     "output_type": "stream",
     "text": [
      "The loss of 12 is 0.8140770792961121\n",
      "The accuracy of 12 is 0.6991999745368958\n"
     ]
    },
    {
     "name": "stderr",
     "output_type": "stream",
     "text": [
      " 56%|█████▌    | 14/25 [01:14<00:58,  5.35s/it]"
     ]
    },
    {
     "name": "stdout",
     "output_type": "stream",
     "text": [
      "The loss of 13 is 0.9962908029556274\n",
      "The accuracy of 13 is 0.6935999989509583\n"
     ]
    },
    {
     "name": "stderr",
     "output_type": "stream",
     "text": [
      " 60%|██████    | 15/25 [01:19<00:53,  5.33s/it]"
     ]
    },
    {
     "name": "stdout",
     "output_type": "stream",
     "text": [
      "The loss of 14 is 0.8851415514945984\n",
      "The accuracy of 14 is 0.6940999627113342\n"
     ]
    },
    {
     "name": "stderr",
     "output_type": "stream",
     "text": [
      " 64%|██████▍   | 16/25 [01:25<00:47,  5.26s/it]"
     ]
    },
    {
     "name": "stdout",
     "output_type": "stream",
     "text": [
      "The loss of 15 is 0.7928289771080017\n",
      "The accuracy of 15 is 0.708299994468689\n"
     ]
    },
    {
     "name": "stderr",
     "output_type": "stream",
     "text": [
      " 68%|██████▊   | 17/25 [01:30<00:41,  5.23s/it]"
     ]
    },
    {
     "name": "stdout",
     "output_type": "stream",
     "text": [
      "The loss of 16 is 0.6501529216766357\n",
      "The accuracy of 16 is 0.6994999647140503\n"
     ]
    },
    {
     "name": "stderr",
     "output_type": "stream",
     "text": [
      " 72%|███████▏  | 18/25 [01:35<00:36,  5.23s/it]"
     ]
    },
    {
     "name": "stdout",
     "output_type": "stream",
     "text": [
      "The loss of 17 is 0.7705351114273071\n",
      "The accuracy of 17 is 0.7215999960899353\n"
     ]
    },
    {
     "name": "stderr",
     "output_type": "stream",
     "text": [
      " 76%|███████▌  | 19/25 [01:40<00:31,  5.24s/it]"
     ]
    },
    {
     "name": "stdout",
     "output_type": "stream",
     "text": [
      "The loss of 18 is 0.7686651945114136\n",
      "The accuracy of 18 is 0.717199981212616\n"
     ]
    },
    {
     "name": "stderr",
     "output_type": "stream",
     "text": [
      " 80%|████████  | 20/25 [01:45<00:25,  5.16s/it]"
     ]
    },
    {
     "name": "stdout",
     "output_type": "stream",
     "text": [
      "The loss of 19 is 0.8675413131713867\n",
      "The accuracy of 19 is 0.7185999751091003\n"
     ]
    },
    {
     "name": "stderr",
     "output_type": "stream",
     "text": [
      " 84%|████████▍ | 21/25 [01:50<00:20,  5.10s/it]"
     ]
    },
    {
     "name": "stdout",
     "output_type": "stream",
     "text": [
      "The loss of 20 is 0.7024703025817871\n",
      "The accuracy of 20 is 0.7289999723434448\n"
     ]
    },
    {
     "name": "stderr",
     "output_type": "stream",
     "text": [
      " 88%|████████▊ | 22/25 [01:55<00:15,  5.10s/it]"
     ]
    },
    {
     "name": "stdout",
     "output_type": "stream",
     "text": [
      "The loss of 21 is 0.7300859689712524\n",
      "The accuracy of 21 is 0.7289999723434448\n"
     ]
    },
    {
     "name": "stderr",
     "output_type": "stream",
     "text": [
      " 92%|█████████▏| 23/25 [02:00<00:10,  5.09s/it]"
     ]
    },
    {
     "name": "stdout",
     "output_type": "stream",
     "text": [
      "The loss of 22 is 0.6364946961402893\n",
      "The accuracy of 22 is 0.7324000000953674\n"
     ]
    },
    {
     "name": "stderr",
     "output_type": "stream",
     "text": [
      " 96%|█████████▌| 24/25 [02:05<00:05,  5.05s/it]"
     ]
    },
    {
     "name": "stdout",
     "output_type": "stream",
     "text": [
      "The loss of 23 is 0.46874842047691345\n",
      "The accuracy of 23 is 0.7330999970436096\n"
     ]
    },
    {
     "name": "stderr",
     "output_type": "stream",
     "text": [
      "100%|██████████| 25/25 [02:10<00:00,  5.23s/it]"
     ]
    },
    {
     "name": "stdout",
     "output_type": "stream",
     "text": [
      "The loss of 24 is 0.6471379399299622\n",
      "The accuracy of 24 is 0.7287999987602234\n"
     ]
    },
    {
     "name": "stderr",
     "output_type": "stream",
     "text": [
      "\n"
     ]
    }
   ],
   "source": [
    "model = Network_CNN()\n",
    "optimizer = optim.Adam(model.parameters(), lr=0.0005, betas=(0.9, 0.95))\n",
    "losses, accuracies = training(model, train_loader, optimizer, 25) "
   ]
  },
  {
   "cell_type": "code",
   "execution_count": 49,
   "metadata": {},
   "outputs": [],
   "source": [
    "def plotting_losses(cnn, fc):\n",
    "    plt.plot(cnn.detach(), 'r', label=\"CNN\")\n",
    "    plt.plot(fc.detach(), 'k', label=\"Dense\")\n",
    "    plt.legend()\n",
    "    plt.show()\n",
    "    \n",
    "def acc_plot(cnn, fc):\n",
    "    plt.plot(cnn, 'r', label=\"CNN\")\n",
    "    plt.plot(fc, 'k', label=\"Dense\")\n",
    "    plt.legend()\n",
    "    plt.show()"
   ]
  },
  {
   "cell_type": "code",
   "execution_count": 50,
   "metadata": {},
   "outputs": [
    {
     "data": {
      "image/png": "[encoded data removed]",
      "text/plain": [
       "<Figure size 432x288 with 1 Axes>"
      ]
     },
     "metadata": {
      "needs_background": "light"
     },
     "output_type": "display_data"
    }
   ],
   "source": [
    "plotting_losses(losses, batch_losses)"
   ]
  },
  {
   "cell_type": "code",
   "execution_count": 51,
   "metadata": {},
   "outputs": [
    {
     "data": {
      "image/png": "[encoded data removed]",
      "text/plain": [
       "<Figure size 432x288 with 1 Axes>"
      ]
     },
     "metadata": {
      "needs_background": "light"
     },
     "output_type": "display_data"
    }
   ],
   "source": [
    "acc_plot(accuracies, batch_accuracies)"
   ]
  },
  {
   "cell_type": "markdown",
   "metadata": {},
   "source": [
    "There is definitely a lot of improvement in the accuracies. This time again we saw that the accuracies were very low for the batch normalized network. Although the losses are considerbly lower but the accuracies don't increase. This needs some investigation"
   ]
  },
  {
   "cell_type": "markdown",
   "metadata": {},
   "source": [
    "The new CNN model is better suited because CNN does not destroy the spatial features of the image, it takes in the images as 2D tensor instead of flatted 1D tensor in baseline network."
   ]
  },
  {
   "cell_type": "code",
   "execution_count": null,
   "metadata": {},
   "outputs": [],
   "source": []
  }
 ],
 "metadata": {
  "kernelspec": {
   "display_name": "Deep L",
   "language": "python",
   "name": "deepl"
  },
  "language_info": {
   "codemirror_mode": {
    "name": "ipython",
    "version": 3
   },
   "file_extension": ".py",
   "mimetype": "text/x-python",
   "name": "python",
   "nbconvert_exporter": "python",
   "pygments_lexer": "ipython3",
   "version": "3.6.12"
  }
 },
 "nbformat": 4,
 "nbformat_minor": 4
}
