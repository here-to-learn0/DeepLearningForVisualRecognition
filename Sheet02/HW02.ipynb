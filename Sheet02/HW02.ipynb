{
 "cells": [
  {
   "cell_type": "code",
   "execution_count": 3,
   "id": "0a67743d",
   "metadata": {},
   "outputs": [],
   "source": [
    "import torch\n",
    "from load_mnist import load_mnist"
   ]
  },
  {
   "cell_type": "code",
   "execution_count": 4,
   "id": "a0d28f15",
   "metadata": {},
   "outputs": [],
   "source": [
    "class Dataset:\n",
    "    def __init__(self, path, dataset, classes, imgs=None, labels=None):\n",
    "        if (path):\n",
    "            imgs, labels = load_mnist(dataset=dataset, path=path)\n",
    "        self.imgs = imgs.reshape(list(imgs.shape)[0], -1)\n",
    "        self.labels = labels.type(torch.LongTensor)\n",
    "        self.imgs, self.labels = self.dataFilter(classes)\n",
    "        self.mean = self.getMean()\n",
    "        self.std = self.getStd()\n",
    "\n",
    "    def __len__(self):\n",
    "        return len(self.imgs)\n",
    "\n",
    "    def __getitem__(self, index):\n",
    "\n",
    "        img = self.imgs[index]\n",
    "        label = self.labels[index]\n",
    "        img = (img - self.mean) / self.std\n",
    "        return img, label\n",
    "\n",
    "    def getMean(self):\n",
    "        mean = torch.mean(self.imgs)\n",
    "        return mean\n",
    "\n",
    "    def getStd(self):\n",
    "        std = torch.std(self.imgs)\n",
    "        return std\n",
    "\n",
    "    def dataFilter(self, classes):\n",
    "        id = torch.tensor([], dtype=torch.long)\n",
    "        for class_ in classes:\n",
    "            idc = torch.where(self.labels == class_)[0]\n",
    "            id = torch.cat((id, idc))\n",
    "        return self.imgs[id, :], self.labels[id]"
   ]
  },
  {
   "cell_type": "code",
   "execution_count": null,
   "id": "7eccde09",
   "metadata": {},
   "outputs": [],
   "source": []
  }
 ],
 "metadata": {
  "kernelspec": {
   "display_name": "Python 3",
   "language": "python",
   "name": "python3"
  },
  "language_info": {
   "codemirror_mode": {
    "name": "ipython",
    "version": 3
   },
   "file_extension": ".py",
   "mimetype": "text/x-python",
   "name": "python",
   "nbconvert_exporter": "python",
   "pygments_lexer": "ipython3",
   "version": "3.8.12"
  }
 },
 "nbformat": 4,
 "nbformat_minor": 5
}
